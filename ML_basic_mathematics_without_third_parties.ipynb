{
 "cells": [
  {
   "cell_type": "markdown",
   "metadata": {},
   "source": [
    "# kuppanmandal@gmail.com"
   ]
  },
  {
   "cell_type": "markdown",
   "metadata": {},
   "source": [
    "# Machine Learning concepts on Python: \n",
    "<h3> without using numpy or sklearn or other third party packages </h3>"
   ]
  },
  {
   "cell_type": "markdown",
   "metadata": {
    "colab_type": "text",
    "id": "R_M8ThqXzQgA"
   },
   "source": [
    "<h3> Q1: Given two matrices please print the product of those two matrices </h3>\n",
    "<pre>\n",
    "\n",
    "Ex 1: A   = [[1 3 4]\n",
    "             [2 5 7]\n",
    "             [5 9 6]]\n",
    "      B   = [[1 0 0]\n",
    "             [0 1 0]\n",
    "             [0 0 1]]\n",
    "      A*B = [[1 3 4]\n",
    "             [2 5 7]\n",
    "             [5 9 6]]\n",
    "\n",
    "     \n",
    "Ex 2: A   = [[1 2]\n",
    "             [3 4]]\n",
    "      B   = [[1 2 3 4 5]\n",
    "             [5 6 7 8 9]]\n",
    "      A*B = [[11 14 17 20 23]\n",
    "             [23 30 37 44 51]]\n",
    "             \n",
    "Ex 3: A   = [[1 2]\n",
    "             [3 4]]\n",
    "      B   = [[1 4]\n",
    "             [5 6]\n",
    "             [7 8]\n",
    "             [9 6]]\n",
    "      A*B =Not possible\n",
    "</pre>"
   ]
  },
  {
   "cell_type": "code",
   "execution_count": 1,
   "metadata": {
    "colab": {},
    "colab_type": "code",
    "id": "_EELp8o7zQgB"
   },
   "outputs": [
    {
     "name": "stdout",
     "output_type": "stream",
     "text": [
      "Enter A matrix row :2\n",
      "Enter A matrix column :2\n",
      "Enter B matrix row :2\n",
      "Enter B matrix column :5\n",
      "Enter A matrix elements in row sequence\n",
      "1\n",
      "2\n",
      "3\n",
      "4\n",
      "Enter B matrix elements in row sequence\n",
      "1\n",
      "2\n",
      "3\n",
      "4\n",
      "5\n",
      "5\n",
      "6\n",
      "7\n",
      "8\n",
      "9\n",
      "The result of matrix multiplication\n",
      " [[11, 14, 17, 20, 23], [23, 30, 37, 44, 51]]\n"
     ]
    }
   ],
   "source": [
    "# In this code matrix multiplication is performed without \n",
    "# using third party libraries\n",
    "# martix_mul function performs matrix multiplication on\n",
    "# sum of rows with columns of each element\n",
    "def matrix_mul(A, B):\n",
    "    for i in range(len(A)):\n",
    "        for j in range(len(B[0])):\n",
    "            for k in range(len(B)):\n",
    "                result[i][j] += A[i][k] * B[k][j]\n",
    "    return result\n",
    "# to get size of the matrix\n",
    "A_row = int(input(\"Enter A matrix row :\"))\n",
    "A_column = int(input(\"Enter A matrix column :\"))\n",
    "B_row = int(input(\"Enter B matrix row :\"))\n",
    "B_column = int(input(\"Enter B matrix column :\"))\n",
    "# decision making to perform matrix multiplication\n",
    "if A_column == B_row: # or use \"len(A[0]) == len(B)\"\"\n",
    "    result = [[0 for i in range(B_column)] for j in range(A_row)] #len(B[0]) & len(A)\n",
    "    print(\"Enter A matrix elements in row sequence\")\n",
    "    A = [[int(input()) for i in range(A_column)] for j in range(A_row)]\n",
    "    print(\"Enter B matrix elements in row sequence\")\n",
    "    B = [[int(input()) for i in range(B_column)] for j in range(B_row)]\n",
    "    print(\"The result of matrix multiplication\\n\", matrix_mul(A, B))\n",
    "else:\n",
    "    print(\"Matrix multiplication is not possible on unequal A columns and B rows\")"
   ]
  },
  {
   "cell_type": "markdown",
   "metadata": {
    "colab_type": "text",
    "id": "2ZMnHrwNzQgD"
   },
   "source": [
    "<h3> Q2: Select a number randomly with probability proportional to its magnitude from the given array of n elements</h3>\n",
    "\n",
    "consider an experiment, selecting an element from the list A randomly with probability proportional to its magnitude.\n",
    "assume we are doing the same experiment for 100 times with replacement, in each experiment you will print a number that is selected randomly from A.\n",
    "\n",
    "<pre>\n",
    "Ex 1: A = [0 5 27 6 13 28 100 45 10 79]\n",
    "let f(x) denote the number of times x getting selected in 100 experiments.\n",
    "f(100) > f(79) > f(45) > f(28) > f(27) > f(13) > f(10) > f(6) > f(5) > f(0)\n",
    "</pre>"
   ]
  },
  {
   "cell_type": "code",
   "execution_count": 2,
   "metadata": {
    "colab": {
     "base_uri": "https://localhost:8080/",
     "height": 313
    },
    "colab_type": "code",
    "executionInfo": {
     "elapsed": 1064,
     "status": "error",
     "timestamp": 1561186084915,
     "user": {
      "displayName": "Applied AI Course",
      "photoUrl": "https://lh5.googleusercontent.com/-9_3A9F-kDXs/AAAAAAAAAAI/AAAAAAAAACw/IprjYvUuoXQ/s64/photo.jpg",
      "userId": "00484516897554883881"
     },
     "user_tz": -330
    },
    "id": "Qh4J8ifYzQgD",
    "outputId": "72ed3154-1f9a-4500-881c-facf8957b9c6"
   },
   "outputs": [
    {
     "name": "stdout",
     "output_type": "stream",
     "text": [
      "if f(0) appears max of 5 times then\n",
      "if f(5) appears max of 6 times then\n",
      "if f(6) appears max of 7 times then\n",
      "if f(10) appears max of 8 times then\n",
      "if f(13) appears max of 9 times then\n",
      "if f(27) appears max of 11 times then\n",
      "if f(28) appears max of 12 times then\n",
      "if f(45) appears max of 13 times then\n",
      "if f(79) appears max of 14 times then\n",
      "if f(100) appears max of 15 times \n",
      "\n",
      "In case appear times reduces of one element, will increase in other\n"
     ]
    }
   ],
   "source": [
    "from random import sample\n",
    "A = [0, 5, 27, 6, 13, 28, 100, 45, 10, 79]\n",
    "#A = [1, 2, 3, 4, 5]\n",
    "A.sort()\n",
    "number = 100\n",
    "A_len = len(A)\n",
    "sum_up = 0\n",
    "for f in range(1,A_len+1):\n",
    "    sum_up += f\n",
    "eq_dis = int((number-sum_up)/A_len)\n",
    "eq_list = []\n",
    "for j in range(1,A_len+1):\n",
    "    eq_list.append(j+eq_dis)\n",
    "total = 0\n",
    "for k in eq_list:\n",
    "    total +=k\n",
    "balance = 0\n",
    "if total != number:\n",
    "    balance = number - total\n",
    "for i in range(1,balance+1):\n",
    "    eq_list[-i] = eq_list[-i] + 1\n",
    "    balance -= 1\n",
    "weighted_list = []\n",
    "for l in range(A_len):\n",
    "    weighted_list += [A[l]]*eq_list[l]\n",
    "sample_list = sample(weighted_list, k=100)\n",
    "for i in A:\n",
    "    print(\"if f({}) appears max of {} times\".format(i,sample_list.count(i)),end=' ')\n",
    "    if i != max(A):\n",
    "        print(\"then\")\n",
    "else:\n",
    "    print(\"\\n\\nIn case appear times reduces of one element, will increase in other\")"
   ]
  },
  {
   "cell_type": "markdown",
   "metadata": {
    "colab_type": "text",
    "id": "e323QFvPzQgF"
   },
   "source": [
    "<h3> Q3: Replace the digits in the string with #</h3>\n",
    "\n",
    "Consider a string that will have digits in that, we need to remove all the characters which are not digits and replace the digits with #\n",
    "<pre>\n",
    "Ex 1: A = 234                Output: ###\n",
    "Ex 2: A = a2b3c4             Output: ###\n",
    "Ex 3: A = abc                Output:   (empty string)\n",
    "Ex 5: A = #2a$#b%c%561#      Output: ####\n",
    "</pre>"
   ]
  },
  {
   "cell_type": "code",
   "execution_count": 3,
   "metadata": {
    "colab": {},
    "colab_type": "code",
    "id": "Ng2BGL2wzQgF"
   },
   "outputs": [
    {
     "name": "stdout",
     "output_type": "stream",
     "text": [
      "Enter String to find only digits as #: #2a$#b%c%561#\n"
     ]
    },
    {
     "data": {
      "text/plain": [
       "'####'"
      ]
     },
     "execution_count": 3,
     "metadata": {},
     "output_type": "execute_result"
    }
   ],
   "source": [
    "import re\n",
    "# using re package, findall function identify digits\n",
    "# and convert as # using sub function\n",
    "def replace_digits(String):\n",
    "    replaced_hash = ''\n",
    "    only_digit = re.findall(\"[0-9]\", String)\n",
    "    for item in only_digit:\n",
    "        hash_symbol = re.sub(\"\\d\", \"#\", item)\n",
    "        replaced_hash += hash_symbol\n",
    "    '''\n",
    "    # insted of the above code can use like below code without re package\n",
    "    for char in String:\n",
    "        if char.isdigit() == True:\n",
    "            replaced_hash += '#'\n",
    "    '''\n",
    "    return replaced_hash\n",
    "\n",
    "String = input(\"Enter String to find only digits as #: \")\n",
    "replace_digits(String)"
   ]
  },
  {
   "cell_type": "markdown",
   "metadata": {
    "colab_type": "text",
    "id": "VodlThpgzQgH"
   },
   "source": [
    "<h3> Q4: Students marks dashboard</h3>\n",
    "\n",
    "Consider the marks list of class students given in two lists <br>\n",
    "Students = ['student1','student2','student3','student4','student5','student6','student7','student8','student9','student10'] <br>\n",
    "Marks = [45, 78, 12, 14, 48, 43, 45, 98, 35, 80] <br>\n",
    "from the above two lists the Student[0] got Marks[0],  Student[1] got Marks[1] and so on. <br><br>\n",
    "\n",
    "Your task is to print the name of students\n",
    "\n",
    "<strong>a. Who got top 5 ranks, in the descending order of marks</strong> <br>\n",
    "<strong>b. Who got least 5 ranks, in the increasing order of marks</strong><br>\n",
    "<strong>d. Who got marks between  &gt;25th percentile &lt;75th percentile, in the increasing order of marks.</strong>\n",
    "\n",
    "<pre>\n",
    "Ex 1: \n",
    "Students=['student1','student2','student3','student4','student5','student6','student7','student8','student9','student10'] \n",
    "Marks = [45, 78, 12, 14, 48, 43, 47, 98, 35, 80]\n",
    "\n",
    "a. \n",
    "student8  98\n",
    "student10 80\n",
    "student2  78\n",
    "student5  48\n",
    "student7  47\n",
    "\n",
    "b.\n",
    "student3 12\n",
    "student4 14\n",
    "student9 35\n",
    "student6 43\n",
    "student1 45\n",
    "\n",
    "c.\n",
    "student9 35\n",
    "student6 43\n",
    "student1 45\n",
    "student7 47\n",
    "student5 48\n",
    "</pre>"
   ]
  },
  {
   "cell_type": "code",
   "execution_count": 4,
   "metadata": {
    "colab": {},
    "colab_type": "code",
    "id": "_eysEkwOzQgI"
   },
   "outputs": [
    {
     "name": "stdout",
     "output_type": "stream",
     "text": [
      "a.\n",
      "student8 98\n",
      "student10 80\n",
      "student2 78\n",
      "student5 48\n",
      "student7 47\n",
      "\n",
      "\n",
      "b.\n",
      "student3 12\n",
      "student4 14\n",
      "student9 35\n",
      "student6 43\n",
      "student1 45\n",
      "\n",
      "\n",
      "c.\n",
      "student9 35\n",
      "student6 43\n",
      "student1 45\n",
      "student7 47\n",
      "student5 48\n",
      "\n",
      "\n"
     ]
    }
   ],
   "source": [
    "# always rank has been provided based on marks not on number of students\n",
    "# identify the marks first using display_dash_board function\n",
    "def display_dash_board(marks):\n",
    "    marks.sort()\n",
    "    top_5_students = []\n",
    "    for i in range(1, 6):\n",
    "        top_5_students.append(marks[-i])\n",
    "    least_5_students = []\n",
    "    for i in range(0, 5):\n",
    "        least_5_students.append(marks[i])\n",
    "    students_within_25_and_75 = []\n",
    "    per_25 = len(marks)*25/100\n",
    "    per_75 = len(marks)*75/100\n",
    "# In above list 25th, 75th percentile are 2.5/10 7.5/10\n",
    "# index starts from 0 on list but percentiles between 1 and 10\n",
    "    for i in range(1,len(marks)+1):\n",
    "        if i > per_25 and i < per_75:\n",
    "            students_within_25_and_75.append(marks[i-1])\n",
    "    return top_5_students, least_5_students, students_within_25_and_75\n",
    "# display students name and marks only on criteria\n",
    "def display(part, students_list):\n",
    "    print(part)\n",
    "    for key in students_list:\n",
    "        print(students_map[key], key)\n",
    "    print(\"\\n\")\n",
    "    \n",
    "students=['student1','student2','student3','student4','student5',\\\n",
    "          'student6','student7','student8','student9','student10'] \n",
    "marks = [45, 78, 12, 14, 48, 43, 47, 98, 35, 80]\n",
    "# mapping students and marks which obtain from user\n",
    "students_map = {mark:student for mark, student in zip(marks, students)}\n",
    "\n",
    "top_5_students, least_5_students, \\\n",
    "students_within_25_and_75 = display_dash_board(marks)\n",
    "display('a.', top_5_students)\n",
    "display('b.', least_5_students)\n",
    "display('c.', students_within_25_and_75)"
   ]
  },
  {
   "cell_type": "markdown",
   "metadata": {
    "colab_type": "text",
    "id": "I32BmjOGzQgJ"
   },
   "source": [
    "<h3> Q5: Find the closest points</h3>\n",
    "\n",
    "Consider you are given n data points in the form of list of tuples like S=[(x1,y1),(x2,y2),(x3,y3),(x4,y4),(x5,y5),..,(xn,yn)] and a point P=(p,q) <br> your task is to find 5 closest points(based on cosine distance) in S from P\n",
    "\n",
    "<br>Cosine distance between two points (x,y) and (p,q) is defined as $cos^{-1}(\\frac{(x\\cdot p+y\\cdot q)}{\\sqrt(x^2+y^2)\\cdot\\sqrt(p^2+q^2)})$\n",
    "<pre>\n",
    "Ex:\n",
    "\n",
    "S= [(1,2),(3,4),(-1,1),(6,-7),(0, 6),(-5,-8),(-1,-1)(6,0),(1,-1)]\n",
    "P= (3,-4)\n",
    "<img src='https://i.imgur.com/vIFPOcG.jpg', width=300>\n",
    "Output:\n",
    "(6,-7)\n",
    "(1,-1)\n",
    "(6,0)\n",
    "(-5,-8)\n",
    "(-1,-1)\n",
    "</pre>"
   ]
  },
  {
   "cell_type": "code",
   "execution_count": 5,
   "metadata": {
    "colab": {},
    "colab_type": "code",
    "id": "cJAvixOHzQgK"
   },
   "outputs": [
    {
     "name": "stdout",
     "output_type": "stream",
     "text": [
      "(6, -7)\n",
      "(1, -1)\n",
      "(6, 0)\n",
      "(-5, -8)\n",
      "(-1, -1)\n"
     ]
    }
   ],
   "source": [
    "import math\n",
    "# the code find the distance between two points of S and P\n",
    "# and sort out only the five nearest points\n",
    "def closest_points_to_p(S, P):\n",
    "    list_of_all = []\n",
    "    order_dict = {}\n",
    "    for i in range(len(S)):\n",
    "        n = S[i][0]*P[0] + S[i][1]*P[1]\n",
    "        a = math.sqrt(math.pow(S[i][0],2) + math.pow(S[i][1],2))\n",
    "        b = math.sqrt(math.pow(P[0],2) + math.pow(P[1],2))\n",
    "        list_of_all.append(math.acos(n / (a * b)))\n",
    "        order_dict[list_of_all[i]] = tuple((S[i][0],S[i][1]))\n",
    "    list_of_all.sort()\n",
    "    closest_points_to_p = []\n",
    "    for i in range(5):\n",
    "        item = list_of_all[i]\n",
    "        if item in order_dict.keys():\n",
    "            closest_points_to_p.append(order_dict[item])\n",
    "    return closest_points_to_p\n",
    "\n",
    "S= [(1,2),(3,4),(-1,1),(6,-7),(0, 6),(-5,-8),(-1,-1),(6,0),(1,-1)]\n",
    "P= (3,-4)\n",
    "points = closest_points_to_p(S, P)\n",
    "for point in points:\n",
    "    print(point)"
   ]
  },
  {
   "cell_type": "markdown",
   "metadata": {
    "colab_type": "text",
    "id": "v6gI7N5tzQgL"
   },
   "source": [
    "<h3> Q6: Find which line separates oranges and apples</h3>\n",
    "\n",
    "Consider you are given two set of data points in the form of list of tuples like \n",
    "<pre>\n",
    "Red =[(R11,R12),(R21,R22),(R31,R32),(R41,R42),(R51,R52),..,(Rn1,Rn2)]\n",
    "Blue=[(B11,B12),(B21,B22),(B31,B32),(B41,B42),(B51,B52),..,(Bm1,Bm2)]\n",
    "</pre>\n",
    "and set of line equations(in the string format, i.e list of strings)\n",
    "<pre>\n",
    "Lines = [a1x+b1y+c1,a2x+b2y+c2,a3x+b3y+c3,a4x+b4y+c4,..,K lines]\n",
    "Note: You need to do string parsing here and get the coefficients of x,y and intercept.\n",
    "</pre>\n",
    "Your task here is to print \"YES\"/\"NO\" for each line given. You should print YES, if all the red points are one side of the line and blue points are on other side of the line, otherwise you should print NO.\n",
    "<pre>\n",
    "Ex:\n",
    "Red= [(1,1),(2,1),(4,2),(2,4), (-1,4)]\n",
    "Blue= [(-2,-1),(-1,-2),(-3,-2),(-3,-1),(1,-3)]\n",
    "Lines=[\"1x+1y+0\",\"1x-1y+0\",\"1x+0y-3\",\"0x+1y-0.5\"]\n",
    "<img src='https://i.imgur.com/DoQf7mE.jpg' width=400>\n",
    "Output:\n",
    "YES\n",
    "NO\n",
    "NO\n",
    "YES\n",
    "</pre>"
   ]
  },
  {
   "cell_type": "code",
   "execution_count": 6,
   "metadata": {
    "colab": {},
    "colab_type": "code",
    "id": "RN_X34WtzQgM"
   },
   "outputs": [
    {
     "name": "stdout",
     "output_type": "stream",
     "text": [
      "YES\n",
      "NO\n",
      "NO\n",
      "YES\n"
     ]
    }
   ],
   "source": [
    "import math\n",
    "import re\n",
    "# for each line the points find its distance of positive and negative values\n",
    "# using Half_space criteria identify color points lies above or below line\n",
    "def i_am_the_one(red,blue,line):\n",
    "    l = re.findall(r\"[-+]?\\d*\\.\\d+|[-+]?\\d+\", line)\n",
    "    l_abc = []\n",
    "    for i in l:\n",
    "        l_abc.append(float(i))\n",
    "    def dist_color(color,l_abc):\n",
    "        dist_color = []\n",
    "        for i_c in color:\n",
    "            d = (l_abc[0] * i_c[0] + l_abc[1] * i_c[1] + l_abc[2]) /\\\n",
    "            (math.sqrt(l_abc[0] * l_abc[0] + l_abc[1] * l_abc[1]))\n",
    "            dist_color.append(d)\n",
    "        return dist_color\n",
    "    red_dist = dist_color(red, l_abc)\n",
    "    blue_dist = dist_color(blue, l_abc)\n",
    "    for item in red_dist:\n",
    "        if item < 0:\n",
    "            return 'NO'\n",
    "    for item in blue_dist:\n",
    "        if item > 0:\n",
    "            return 'NO' \n",
    "    return 'YES'\n",
    "\n",
    "Red= [(1,1),(2,1),(4,2),(2,4),(-1,4)]\n",
    "Blue= [(-2,-1),(-1,-2),(-3,-2),(-3,-1),(1,-3)]\n",
    "Lines=[\"1x+1y+0\",\"1x-1y+0\",\"1x+0y-3\",\"0x+1y-0.5\"]\n",
    "\n",
    "for i in Lines:\n",
    "    yes_or_no = i_am_the_one(Red, Blue, i)\n",
    "    print(yes_or_no)"
   ]
  },
  {
   "cell_type": "markdown",
   "metadata": {
    "colab_type": "text",
    "id": "_pJcGohbzQgO"
   },
   "source": [
    "<h3> Q7: Filling the missing values in the specified format</h3>\n",
    "\n",
    "You will be given a string with digits and '\\_'(missing value) symbols you have to replace the '\\_' symbols as explained \n",
    "\n",
    "<pre>\n",
    "Ex 1: _, _, _, 24 ==> 24/4, 24/4, 24/4, 24/4 i.e we. have distributed the 24 equally to all 4 places <br>\n",
    "Ex 2: 40, _, _, _, 60 ==> (60+40)/5,(60+40)/5,(60+40)/5,(60+40)/5,(60+40)/5 ==> 20, 20, 20, 20, 20 i.e. the sum of (60+40) is distributed qually to all 5 places<br>\n",
    "Ex 3: 80, _, _, _, _  ==> 80/5,80/5,80/5,80/5,80/5 ==> 16, 16, 16, 16, 16 i.e. the 80 is distributed qually to all 5 missing values that are right to it<br>\n",
    "Ex 4: _, _, 30, _, _, _, 50, _, _  \n",
    "==> we will fill the missing values from left to right \n",
    "    a. first we will distribute the 30 to left two missing values (10, 10, 10, _, _, _, 50, _, _)\n",
    "    b. now distribute the sum (10+50) missing values in between (10, 10, 12, 12, 12, 12, 12, _, _) \n",
    "    c. now we will distribute 12 to right side missing values (10, 10, 12, 12, 12, 12, 4, 4, 4)\n",
    "</pre>\n",
    "for a given string with comma seprate values, which will have both missing values numbers like ex: \"_, _, x, _, _, _\"\n",
    "you need fill the missing values\n",
    "\n",
    "Q: your program reads a string like ex: \"_, _, x, _, _, _\" and returns the filled sequence\n",
    "\n",
    "Ex: \n",
    "<pre>\n",
    "Input1: \"_,_,_,24\"\n",
    "Output1: 6,6,6,6\n",
    "\n",
    "Input2: \"40,_,_,_,60\"\n",
    "Output2: 20,20,20,20,20\n",
    "\n",
    "Input3: \"80,_,_,_,_\"\n",
    "Output3: 16,16,16,16,16\n",
    "\n",
    "Input4: \"_,_,30,_,_,_,50,_,_\"\n",
    "Output4: 10,10,12,12,12,12,4,4,4\n",
    "</pre>\n",
    "\n"
   ]
  },
  {
   "cell_type": "code",
   "execution_count": 7,
   "metadata": {
    "colab": {},
    "colab_type": "code",
    "id": "91z7aHTozQgO"
   },
   "outputs": [
    {
     "name": "stdout",
     "output_type": "stream",
     "text": [
      "[10, 10, 12, 12, 12, 12, 4, 4, 4]\n"
     ]
    }
   ],
   "source": [
    "# using this code to find smoothing value of before and after elements\n",
    "def curve_smoothing(string):\n",
    "    if string == None:\n",
    "        return \"Nothing to smooth\"\n",
    "    else:\n",
    "        string_list = string.split(',')\n",
    "        index = next_item = last_index = last_item = 0\n",
    "        for index in range(len(string_list)):\n",
    "            if string_list[index] != '_' or (index+1 == len(string_list)):\n",
    "                if string_list[index] == '_':\n",
    "                    next_item = 0\n",
    "                else:\n",
    "                    next_item = int(string_list[index])\n",
    "                new_item = (next_item + last_item) / (index - last_index + 1)\n",
    "                for i in range(last_index, index + 1):\n",
    "                    string_list[i] = int(new_item)\n",
    "                last_item = new_item\n",
    "                last_index = index\n",
    "        return string_list\n",
    "\n",
    "S=  \"_,_,30,_,_,_,50,_,_\"\n",
    "print(curve_smoothing(S))"
   ]
  },
  {
   "cell_type": "markdown",
   "metadata": {
    "colab_type": "text",
    "id": "RRsdP3MvzQgR"
   },
   "source": [
    "<h3> Q8: Find the probabilities</h3>\n",
    "\n",
    "You will be given a list of lists, each sublist will be of length 2 i.e. [[x,y],[p,q],[l,m]..[r,s]]\n",
    "consider its like a martrix of n rows and two columns\n",
    "1. The first column F will contain only 5 uniques values (F1, F2, F3, F4, F5)\n",
    "2. The second column S will contain only 3 uniques values (S1, S2, S3)\n",
    "<pre>\n",
    "your task is to find\n",
    "a. Probability of P(F=F1|S==S1), P(F=F1|S==S2), P(F=F1|S==S3)\n",
    "b. Probability of P(F=F2|S==S1), P(F=F2|S==S2), P(F=F2|S==S3)\n",
    "c. Probability of P(F=F3|S==S1), P(F=F3|S==S2), P(F=F3|S==S3)\n",
    "d. Probability of P(F=F4|S==S1), P(F=F4|S==S2), P(F=F4|S==S3)\n",
    "e. Probability of P(F=F5|S==S1), P(F=F5|S==S2), P(F=F5|S==S3)\n",
    "</pre>\n",
    "Ex:\n",
    "\n",
    "<pre>\n",
    "[[F1,S1],[F2,S2],[F3,S3],[F1,S2],[F2,S3],[F3,S2],[F2,S1],[F4,S1],[F4,S3],[F5,S1]]\n",
    "\n",
    "a. P(F=F1|S==S1)=1/4, P(F=F1|S==S2)=1/3, P(F=F1|S==S3)=0/3\n",
    "b. P(F=F2|S==S1)=1/4, P(F=F2|S==S2)=1/3, P(F=F2|S==S3)=1/3\n",
    "c. P(F=F3|S==S1)=0/4, P(F=F3|S==S2)=1/3, P(F=F3|S==S3)=1/3\n",
    "d. P(F=F4|S==S1)=1/4, P(F=F4|S==S2)=0/3, P(F=F4|S==S3)=1/3\n",
    "e. P(F=F5|S==S1)=1/4, P(F=F5|S==S2)=0/3, P(F=F5|S==S3)=0/3\n",
    "</pre>\n",
    "\n"
   ]
  },
  {
   "cell_type": "code",
   "execution_count": 8,
   "metadata": {
    "colab": {},
    "colab_type": "code",
    "id": "YACLYXRazQgR"
   },
   "outputs": [
    {
     "name": "stdout",
     "output_type": "stream",
     "text": [
      "P(F=F1|S==S1)=1/4  P(F=F1|S==S2)=1/3  P(F=F1|S==S3)=0/3  \n",
      "P(F=F2|S==S1)=1/4  P(F=F2|S==S2)=1/3  P(F=F2|S==S3)=1/3  \n",
      "P(F=F3|S==S1)=0/4  P(F=F3|S==S2)=1/3  P(F=F3|S==S3)=1/3  \n",
      "P(F=F4|S==S1)=1/4  P(F=F4|S==S2)=0/3  P(F=F4|S==S3)=1/3  \n",
      "P(F=F5|S==S1)=1/4  P(F=F5|S==S2)=0/3  P(F=F5|S==S3)=0/3  \n"
     ]
    }
   ],
   "source": [
    "# in this code so many conversation made \n",
    "# because of eliminate repeatation and sorted form\n",
    "def compute_conditional_probabilites(A):\n",
    "    for F_item in sorted(list({item[0] for item in A})):\n",
    "        for S_item in sorted(list({item[1] for item in A})):\n",
    "            count = 0\n",
    "            for i in range(len(A)):\n",
    "                j=0 # from the statement identified 2 columns on all the time\n",
    "                if F_item in A[i][j] and S_item in A[i][j+1]:\n",
    "                    count += 1\n",
    "            print(\"P(F={}|S=={})={}/{}\".format(F_item, S_item, count, \\\n",
    "                        [item[1] for item in A].count(S_item)), end='  ')\n",
    "        print(\"\\n\", end='')\n",
    "# input vales always provide in string form, unless it follows data type\n",
    "A = [['F1','S1'],['F2','S2'],['F3','S3'],['F1','S2'],['F2','S3'],\\\n",
    "     ['F3','S2'],['F2','S1'],['F4','S1'],['F4','S3'],['F5','S1']]\n",
    "compute_conditional_probabilites(A)"
   ]
  },
  {
   "cell_type": "markdown",
   "metadata": {
    "colab_type": "text",
    "id": "uI5OefuszQgT"
   },
   "source": [
    "<h3> Q9: Operations on sentences </h3>\n",
    "\n",
    "You will be given two sentances S1, S2 your task is to find \n",
    "<pre>\n",
    "a. Number of common words between S1, S2\n",
    "b. Words in S1 but not in S2\n",
    "c. Words in S2 but not in S1\n",
    "</pre>\n",
    "\n",
    "Ex: \n",
    "<pre>\n",
    "S1= \"the first column F will contain only 5 unique values\"\n",
    "S2= \"the second column S will contain only 3 unique values\"\n",
    "Output:\n",
    "a. 7\n",
    "b. ['first','F','5']\n",
    "c. ['second','S','3']\n",
    "</pre>"
   ]
  },
  {
   "cell_type": "code",
   "execution_count": 9,
   "metadata": {
    "colab": {},
    "colab_type": "code",
    "id": "6efRp-EizQgU"
   },
   "outputs": [
    {
     "name": "stdout",
     "output_type": "stream",
     "text": [
      "a.  7 \n",
      "b.  ['first', 'F', '5'] \n",
      "c.  ['second', 'S', '3']\n"
     ]
    }
   ],
   "source": [
    "# this code performs with list manner of operations has more code\n",
    "def string_features(S1, S2):\n",
    "    S1_list = S1.split()\n",
    "    S2_list = S2.split()\n",
    "    a = len(common_words(S1_list, S2_list))\n",
    "    b = differ_in_words(S1_list, S2_list)\n",
    "    c = differ_in_words(S2_list, S1_list)\n",
    "    return a, b, c\n",
    "\n",
    "def common_words(list_1, list_2):\n",
    "    return [item for item in list_1 if item in list_2]\n",
    "\n",
    "def differ_in_words(list_1, list_2):\n",
    "    return [item for item in list_1 if item not in list_2]\n",
    "'''# instead of above code use set operations which can perform more easier\n",
    "# but the exact output as same as can execute by above code\n",
    "def string_features(S1, S2):\n",
    "    x = set(S1.split())\n",
    "    y = set(S2.split())\n",
    "    a = len(x & y)\n",
    "    b = list(x - y)\n",
    "    c = list(y - x)\n",
    "    return a, b, c\n",
    "'''\n",
    "S1= \"the first column F will contain only 5 uniques values\"\n",
    "S2= \"the second column S will contain only 3 uniques values\"\n",
    "a,b,c = string_features(S1, S2)\n",
    "print(\"a. \",a,\"\\nb. \",b,\"\\nc. \", c)"
   ]
  },
  {
   "cell_type": "markdown",
   "metadata": {
    "colab_type": "text",
    "id": "tSajhVSIzQgV"
   },
   "source": [
    "<h3> Q10: Error Function</h3>\n",
    "\n",
    "You will be given a list of lists, each sublist will be of length 2 i.e. [[x,y],[p,q],[l,m]..[r,s]]\n",
    "consider its like a martrix of n rows and two columns\n",
    "\n",
    "a. the first column Y will contain interger values <br>\n",
    "b. the second column $Y_{score}$ will be having float values <br>\n",
    "Your task is to find the value of $f(Y,Y_{score}) = -1*\\frac{1}{n}\\Sigma_{for each Y,Y_{score} pair}(Ylog10(Y_{score})+(1-Y)log10(1-Y_{score}))$ here n is the number of rows in the matrix\n",
    "<pre>\n",
    "Ex:\n",
    "[[1, 0.4], [0, 0.5], [0, 0.9], [0, 0.3], [0, 0.6], [1, 0.1], [1, 0.9], [1, 0.8]]\n",
    "output:\n",
    "0.44982\n",
    "</pre>\n",
    "$\\frac{-1}{8}\\cdot((1\\cdot log_{10}(0.4)+0\\cdot log_{10}(0.6))+(0\\cdot log_{10}(0.5)+1\\cdot log_{10}(0.5)) + ... + (1\\cdot log_{10}(0.8)+0\\cdot log_{10}(0.2)) )$"
   ]
  },
  {
   "cell_type": "code",
   "execution_count": 10,
   "metadata": {
    "colab": {},
    "colab_type": "code",
    "id": "4zem9mM5zQgW"
   },
   "outputs": [
    {
     "name": "stdout",
     "output_type": "stream",
     "text": [
      "0.42431\n"
     ]
    }
   ],
   "source": [
    "import math\n",
    "# code done based on the formula to calculate error function\n",
    "def compute_log_loss(A):\n",
    "    fun_y = 0\n",
    "    for i in range(len(A)):\n",
    "        fun_y += ((A[i][0]) * math.log10(A[i][1]) +\\\n",
    "                  (1-A[i][0]) * math.log10(1-A[i][1]))\n",
    "    loss = -(fun_y)/len(A)\n",
    "    return loss\n",
    "\n",
    "A = [[1, 0.4], [0, 0.5], [0, 0.9], [0, 0.3], [0, 0.6], [1, 0.1], [1, 0.9], [1, 0.8]]\n",
    "loss = compute_log_loss(A)\n",
    "print(\"{0:0.5f}\".format(loss))"
   ]
  },
  {
   "cell_type": "markdown",
   "metadata": {},
   "source": [
    "# Conclusion\n",
    "Form my knowledge, I hope the code will satisfy the criteria. May be at some point, time and space complexity utilize more than as usual "
   ]
  }
 ],
 "metadata": {
  "colab": {
   "name": "2. Python Mandatory Assignment.ipynb",
   "provenance": [],
   "version": "0.3.2"
  },
  "kernelspec": {
   "display_name": "Python 3",
   "language": "python",
   "name": "python3"
  },
  "language_info": {
   "codemirror_mode": {
    "name": "ipython",
    "version": 3
   },
   "file_extension": ".py",
   "mimetype": "text/x-python",
   "name": "python",
   "nbconvert_exporter": "python",
   "pygments_lexer": "ipython3",
   "version": "3.7.3"
  }
 },
 "nbformat": 4,
 "nbformat_minor": 1
}
